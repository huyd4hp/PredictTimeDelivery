{
 "cells": [
  {
   "cell_type": "markdown",
   "metadata": {},
   "source": [
    "#### Read Data"
   ]
  },
  {
   "cell_type": "code",
   "execution_count": 32,
   "metadata": {},
   "outputs": [],
   "source": [
    "import pandas as pd\n",
    "import numpy as np\n",
    "data = pd.read_csv('../dataset/dataset_clean.csv')\n",
    "del data['Index']"
   ]
  },
  {
   "cell_type": "code",
   "execution_count": 33,
   "metadata": {},
   "outputs": [
    {
     "name": "stdout",
     "output_type": "stream",
     "text": [
      "(44657, 18)\n"
     ]
    },
    {
     "data": {
      "text/html": [
       "<div>\n",
       "<style scoped>\n",
       "    .dataframe tbody tr th:only-of-type {\n",
       "        vertical-align: middle;\n",
       "    }\n",
       "\n",
       "    .dataframe tbody tr th {\n",
       "        vertical-align: top;\n",
       "    }\n",
       "\n",
       "    .dataframe thead th {\n",
       "        text-align: right;\n",
       "    }\n",
       "</style>\n",
       "<table border=\"1\" class=\"dataframe\">\n",
       "  <thead>\n",
       "    <tr style=\"text-align: right;\">\n",
       "      <th></th>\n",
       "      <th>Delivery_person_Age</th>\n",
       "      <th>Delivery_person_ratings</th>\n",
       "      <th>Restaurant_latitude</th>\n",
       "      <th>Restaurant_longitude</th>\n",
       "      <th>Delivery_location_latitude</th>\n",
       "      <th>Delivery_location_longitude</th>\n",
       "      <th>Time_order</th>\n",
       "      <th>Time_order_picked</th>\n",
       "      <th>Weather_conditions</th>\n",
       "      <th>Road_traffic_density</th>\n",
       "      <th>Vehicle_condition</th>\n",
       "      <th>Type_of_order</th>\n",
       "      <th>Type_of_vehicle</th>\n",
       "      <th>Multiple_deliveries</th>\n",
       "      <th>Festival</th>\n",
       "      <th>City</th>\n",
       "      <th>Distance</th>\n",
       "      <th>Time_taken_(min)</th>\n",
       "    </tr>\n",
       "  </thead>\n",
       "  <tbody>\n",
       "    <tr>\n",
       "      <th>0</th>\n",
       "      <td>36.0</td>\n",
       "      <td>4.5</td>\n",
       "      <td>23.351058</td>\n",
       "      <td>85.325731</td>\n",
       "      <td>23.371058</td>\n",
       "      <td>85.345731</td>\n",
       "      <td>2022-03-24 11:25:00</td>\n",
       "      <td>2022-03-24 11:35:00</td>\n",
       "      <td>Cloudy</td>\n",
       "      <td>High</td>\n",
       "      <td>1</td>\n",
       "      <td>Drinks</td>\n",
       "      <td>motorcycle</td>\n",
       "      <td>1.0</td>\n",
       "      <td>No</td>\n",
       "      <td>Metropolitian</td>\n",
       "      <td>3.018911</td>\n",
       "      <td>25.0</td>\n",
       "    </tr>\n",
       "    <tr>\n",
       "      <th>1</th>\n",
       "      <td>37.0</td>\n",
       "      <td>4.7</td>\n",
       "      <td>12.934365</td>\n",
       "      <td>77.616155</td>\n",
       "      <td>13.024365</td>\n",
       "      <td>77.706155</td>\n",
       "      <td>2022-03-25 17:40:00</td>\n",
       "      <td>2022-03-25 17:50:00</td>\n",
       "      <td>Fog</td>\n",
       "      <td>Medium</td>\n",
       "      <td>1</td>\n",
       "      <td>Meal</td>\n",
       "      <td>scooter</td>\n",
       "      <td>1.0</td>\n",
       "      <td>No</td>\n",
       "      <td>Metropolitian</td>\n",
       "      <td>13.973178</td>\n",
       "      <td>40.0</td>\n",
       "    </tr>\n",
       "    <tr>\n",
       "      <th>2</th>\n",
       "      <td>25.0</td>\n",
       "      <td>4.9</td>\n",
       "      <td>22.312790</td>\n",
       "      <td>73.170283</td>\n",
       "      <td>22.352790</td>\n",
       "      <td>73.210283</td>\n",
       "      <td>2022-03-19 13:40:00</td>\n",
       "      <td>2022-03-19 13:55:00</td>\n",
       "      <td>Cloudy</td>\n",
       "      <td>High</td>\n",
       "      <td>1</td>\n",
       "      <td>Drinks</td>\n",
       "      <td>scooter</td>\n",
       "      <td>1.0</td>\n",
       "      <td>No</td>\n",
       "      <td>Urban</td>\n",
       "      <td>6.058825</td>\n",
       "      <td>30.0</td>\n",
       "    </tr>\n",
       "    <tr>\n",
       "      <th>3</th>\n",
       "      <td>28.0</td>\n",
       "      <td>4.5</td>\n",
       "      <td>17.433809</td>\n",
       "      <td>78.386744</td>\n",
       "      <td>17.563809</td>\n",
       "      <td>78.516744</td>\n",
       "      <td>2022-03-10 23:35:00</td>\n",
       "      <td>2022-03-10 23:45:00</td>\n",
       "      <td>Sandstorms</td>\n",
       "      <td>Low</td>\n",
       "      <td>1</td>\n",
       "      <td>Drinks</td>\n",
       "      <td>motorcycle</td>\n",
       "      <td>1.0</td>\n",
       "      <td>No</td>\n",
       "      <td>Metropolitian</td>\n",
       "      <td>19.975520</td>\n",
       "      <td>11.0</td>\n",
       "    </tr>\n",
       "    <tr>\n",
       "      <th>4</th>\n",
       "      <td>22.0</td>\n",
       "      <td>4.5</td>\n",
       "      <td>12.310972</td>\n",
       "      <td>76.659264</td>\n",
       "      <td>12.390972</td>\n",
       "      <td>76.739264</td>\n",
       "      <td>2022-03-10 20:40:00</td>\n",
       "      <td>2022-03-10 20:55:00</td>\n",
       "      <td>Fog</td>\n",
       "      <td>Jam</td>\n",
       "      <td>0</td>\n",
       "      <td>Snack</td>\n",
       "      <td>motorcycle</td>\n",
       "      <td>1.0</td>\n",
       "      <td>No</td>\n",
       "      <td>Metropolitian</td>\n",
       "      <td>12.435540</td>\n",
       "      <td>47.0</td>\n",
       "    </tr>\n",
       "  </tbody>\n",
       "</table>\n",
       "</div>"
      ],
      "text/plain": [
       "   Delivery_person_Age  Delivery_person_ratings  Restaurant_latitude  \\\n",
       "0                 36.0                      4.5            23.351058   \n",
       "1                 37.0                      4.7            12.934365   \n",
       "2                 25.0                      4.9            22.312790   \n",
       "3                 28.0                      4.5            17.433809   \n",
       "4                 22.0                      4.5            12.310972   \n",
       "\n",
       "   Restaurant_longitude  Delivery_location_latitude  \\\n",
       "0             85.325731                   23.371058   \n",
       "1             77.616155                   13.024365   \n",
       "2             73.170283                   22.352790   \n",
       "3             78.386744                   17.563809   \n",
       "4             76.659264                   12.390972   \n",
       "\n",
       "   Delivery_location_longitude           Time_order    Time_order_picked  \\\n",
       "0                    85.345731  2022-03-24 11:25:00  2022-03-24 11:35:00   \n",
       "1                    77.706155  2022-03-25 17:40:00  2022-03-25 17:50:00   \n",
       "2                    73.210283  2022-03-19 13:40:00  2022-03-19 13:55:00   \n",
       "3                    78.516744  2022-03-10 23:35:00  2022-03-10 23:45:00   \n",
       "4                    76.739264  2022-03-10 20:40:00  2022-03-10 20:55:00   \n",
       "\n",
       "  Weather_conditions Road_traffic_density  Vehicle_condition Type_of_order  \\\n",
       "0             Cloudy                 High                  1        Drinks   \n",
       "1                Fog               Medium                  1          Meal   \n",
       "2             Cloudy                 High                  1        Drinks   \n",
       "3         Sandstorms                  Low                  1        Drinks   \n",
       "4                Fog                  Jam                  0         Snack   \n",
       "\n",
       "  Type_of_vehicle  Multiple_deliveries Festival           City   Distance  \\\n",
       "0      motorcycle                  1.0       No  Metropolitian   3.018911   \n",
       "1         scooter                  1.0       No  Metropolitian  13.973178   \n",
       "2         scooter                  1.0       No          Urban   6.058825   \n",
       "3      motorcycle                  1.0       No  Metropolitian  19.975520   \n",
       "4      motorcycle                  1.0       No  Metropolitian  12.435540   \n",
       "\n",
       "   Time_taken_(min)  \n",
       "0              25.0  \n",
       "1              40.0  \n",
       "2              30.0  \n",
       "3              11.0  \n",
       "4              47.0  "
      ]
     },
     "execution_count": 33,
     "metadata": {},
     "output_type": "execute_result"
    }
   ],
   "source": [
    "print(data.shape)\n",
    "data.head()"
   ]
  },
  {
   "cell_type": "code",
   "execution_count": 34,
   "metadata": {},
   "outputs": [
    {
     "data": {
      "text/plain": [
       "Delivery_person_Age            float64\n",
       "Delivery_person_ratings        float64\n",
       "Restaurant_latitude            float64\n",
       "Restaurant_longitude           float64\n",
       "Delivery_location_latitude     float64\n",
       "Delivery_location_longitude    float64\n",
       "Time_order                      object\n",
       "Time_order_picked               object\n",
       "Weather_conditions              object\n",
       "Road_traffic_density            object\n",
       "Vehicle_condition                int64\n",
       "Type_of_order                   object\n",
       "Type_of_vehicle                 object\n",
       "Multiple_deliveries            float64\n",
       "Festival                        object\n",
       "City                            object\n",
       "Distance                       float64\n",
       "Time_taken_(min)               float64\n",
       "dtype: object"
      ]
     },
     "execution_count": 34,
     "metadata": {},
     "output_type": "execute_result"
    }
   ],
   "source": [
    "data.dtypes"
   ]
  },
  {
   "cell_type": "markdown",
   "metadata": {},
   "source": [
    "#### Encoder object features"
   ]
  },
  {
   "cell_type": "code",
   "execution_count": 35,
   "metadata": {},
   "outputs": [
    {
     "data": {
      "text/plain": [
       "Delivery_person_Age            float64\n",
       "Delivery_person_ratings        float64\n",
       "Restaurant_latitude            float64\n",
       "Restaurant_longitude           float64\n",
       "Delivery_location_latitude     float64\n",
       "Delivery_location_longitude    float64\n",
       "Time_order                       int32\n",
       "Time_order_picked                int32\n",
       "Weather_conditions               int32\n",
       "Road_traffic_density             int32\n",
       "Vehicle_condition                int64\n",
       "Type_of_order                    int32\n",
       "Type_of_vehicle                  int32\n",
       "Multiple_deliveries            float64\n",
       "Festival                         int32\n",
       "City                             int32\n",
       "Distance                       float64\n",
       "Time_taken_(min)               float64\n",
       "dtype: object"
      ]
     },
     "execution_count": 35,
     "metadata": {},
     "output_type": "execute_result"
    }
   ],
   "source": [
    "from sklearn.preprocessing import LabelEncoder\n",
    "le = LabelEncoder()\n",
    "for col in data.columns:\n",
    "    if data[col].dtype == 'object':\n",
    "        data[col] = le.fit_transform(data[col])\n",
    "        \n",
    "data.dtypes"
   ]
  },
  {
   "cell_type": "code",
   "execution_count": 36,
   "metadata": {},
   "outputs": [],
   "source": [
    "# feature\n",
    "feature = data.drop(labels= 'Time_taken_(min)',axis = 1)\n",
    "feature\n",
    "# target\n",
    "target = data['Time_taken_(min)']"
   ]
  },
  {
   "cell_type": "code",
   "execution_count": 37,
   "metadata": {},
   "outputs": [
    {
     "data": {
      "text/plain": [
       "Delivery_person_Age            float64\n",
       "Delivery_person_ratings        float64\n",
       "Restaurant_latitude            float64\n",
       "Restaurant_longitude           float64\n",
       "Delivery_location_latitude     float64\n",
       "Delivery_location_longitude    float64\n",
       "Time_order                       int32\n",
       "Time_order_picked                int32\n",
       "Weather_conditions               int32\n",
       "Road_traffic_density             int32\n",
       "Vehicle_condition                int64\n",
       "Type_of_order                    int32\n",
       "Type_of_vehicle                  int32\n",
       "Multiple_deliveries            float64\n",
       "Festival                         int32\n",
       "City                             int32\n",
       "Distance                       float64\n",
       "dtype: object"
      ]
     },
     "execution_count": 37,
     "metadata": {},
     "output_type": "execute_result"
    }
   ],
   "source": [
    "feature.dtypes"
   ]
  },
  {
   "cell_type": "code",
   "execution_count": 38,
   "metadata": {},
   "outputs": [
    {
     "data": {
      "text/plain": [
       "((44657, 17), (44657,))"
      ]
     },
     "execution_count": 38,
     "metadata": {},
     "output_type": "execute_result"
    }
   ],
   "source": [
    "feature.shape,target.shape"
   ]
  },
  {
   "cell_type": "markdown",
   "metadata": {},
   "source": [
    "#### Determine number of features "
   ]
  },
  {
   "cell_type": "code",
   "execution_count": 39,
   "metadata": {},
   "outputs": [],
   "source": [
    "from mlxtend.feature_selection import SequentialFeatureSelector as SFS\n",
    "from sklearn.linear_model import LinearRegression as LR"
   ]
  },
  {
   "cell_type": "code",
   "execution_count": 40,
   "metadata": {},
   "outputs": [
    {
     "data": {
      "text/plain": [
       "('Delivery_person_Age',\n",
       " 'Delivery_person_ratings',\n",
       " 'Restaurant_latitude',\n",
       " 'Restaurant_longitude',\n",
       " 'Delivery_location_latitude',\n",
       " 'Delivery_location_longitude',\n",
       " 'Time_order',\n",
       " 'Time_order_picked',\n",
       " 'Weather_conditions',\n",
       " 'Road_traffic_density',\n",
       " 'Vehicle_condition',\n",
       " 'Type_of_order',\n",
       " 'Type_of_vehicle',\n",
       " 'Multiple_deliveries',\n",
       " 'Festival',\n",
       " 'City',\n",
       " 'Distance')"
      ]
     },
     "execution_count": 40,
     "metadata": {},
     "output_type": "execute_result"
    }
   ],
   "source": [
    "feature_names = tuple(feature.columns)\n",
    "feature_names"
   ]
  },
  {
   "cell_type": "code",
   "execution_count": 41,
   "metadata": {},
   "outputs": [],
   "source": [
    "X = feature\n",
    "y = target"
   ]
  },
  {
   "cell_type": "code",
   "execution_count": 42,
   "metadata": {},
   "outputs": [
    {
     "name": "stderr",
     "output_type": "stream",
     "text": [
      "[Parallel(n_jobs=1)]: Using backend SequentialBackend with 1 concurrent workers.\n",
      "[Parallel(n_jobs=1)]: Done   1 out of   1 | elapsed:    0.0s remaining:    0.0s\n",
      "[Parallel(n_jobs=1)]: Done  17 out of  17 | elapsed:    1.1s finished\n",
      "\n",
      "[2022-11-19 15:38:12] Features: 1/7 -- score: 0.14468258934064826[Parallel(n_jobs=1)]: Using backend SequentialBackend with 1 concurrent workers.\n",
      "[Parallel(n_jobs=1)]: Done   1 out of   1 | elapsed:    0.0s remaining:    0.0s\n",
      "[Parallel(n_jobs=1)]: Done  16 out of  16 | elapsed:    1.2s finished\n",
      "\n",
      "[2022-11-19 15:38:13] Features: 2/7 -- score: 0.2319968862523401[Parallel(n_jobs=1)]: Using backend SequentialBackend with 1 concurrent workers.\n",
      "[Parallel(n_jobs=1)]: Done   1 out of   1 | elapsed:    0.0s remaining:    0.0s\n",
      "[Parallel(n_jobs=1)]: Done  15 out of  15 | elapsed:    1.1s finished\n",
      "\n",
      "[2022-11-19 15:38:15] Features: 3/7 -- score: 0.294239496343048[Parallel(n_jobs=1)]: Using backend SequentialBackend with 1 concurrent workers.\n",
      "[Parallel(n_jobs=1)]: Done   1 out of   1 | elapsed:    0.0s remaining:    0.0s\n",
      "[Parallel(n_jobs=1)]: Done  14 out of  14 | elapsed:    1.7s finished\n",
      "\n",
      "[2022-11-19 15:38:16] Features: 4/7 -- score: 0.3562222437451806[Parallel(n_jobs=1)]: Using backend SequentialBackend with 1 concurrent workers.\n",
      "[Parallel(n_jobs=1)]: Done   1 out of   1 | elapsed:    0.0s remaining:    0.0s\n",
      "[Parallel(n_jobs=1)]: Done  13 out of  13 | elapsed:    1.8s finished\n",
      "\n",
      "[2022-11-19 15:38:18] Features: 5/7 -- score: 0.3998024555383137[Parallel(n_jobs=1)]: Using backend SequentialBackend with 1 concurrent workers.\n",
      "[Parallel(n_jobs=1)]: Done   1 out of   1 | elapsed:    0.1s remaining:    0.0s\n",
      "[Parallel(n_jobs=1)]: Done  12 out of  12 | elapsed:    2.3s finished\n",
      "\n",
      "[2022-11-19 15:38:21] Features: 6/7 -- score: 0.43333655604366694[Parallel(n_jobs=1)]: Using backend SequentialBackend with 1 concurrent workers.\n",
      "[Parallel(n_jobs=1)]: Done   1 out of   1 | elapsed:    0.1s remaining:    0.0s\n",
      "[Parallel(n_jobs=1)]: Done  11 out of  11 | elapsed:    1.7s finished\n",
      "\n",
      "[2022-11-19 15:38:22] Features: 7/7 -- score: 0.46125752950480114"
     ]
    }
   ],
   "source": [
    "sfs1 = SFS(\n",
    "        LR(), \n",
    "        k_features = 7, # select k best feature [1 - X.shape[1]]\n",
    "        forward=True, \n",
    "        floating=False, \n",
    "        verbose=2,\n",
    "        scoring='r2',\n",
    "        cv=10) # cross-valdation\n",
    "\n",
    "sfs1 = sfs1.fit(X, y)"
   ]
  },
  {
   "cell_type": "code",
   "execution_count": 43,
   "metadata": {},
   "outputs": [
    {
     "data": {
      "text/plain": [
       "('Delivery_person_Age',\n",
       " 'Delivery_person_ratings',\n",
       " 'Weather_conditions',\n",
       " 'Road_traffic_density',\n",
       " 'Vehicle_condition',\n",
       " 'Multiple_deliveries',\n",
       " 'Distance')"
      ]
     },
     "execution_count": 43,
     "metadata": {},
     "output_type": "execute_result"
    }
   ],
   "source": [
    "# result\n",
    "sfs1.k_feature_names_"
   ]
  },
  {
   "cell_type": "code",
   "execution_count": 44,
   "metadata": {},
   "outputs": [],
   "source": [
    "# save \n",
    "def data_selection(*feature):\n",
    "    df = pd.DataFrame()\n",
    "    for i in np.array(feature):\n",
    "        df[i] = data[i]\n",
    "    return df\n",
    "#data_selection = data_selection(sfs1.k_feature_names_)\n",
    "#data_selection['Time_taken_(min)'] = target\n",
    "#data_selection.to_csv('../dataset/dataset_selection.csv')"
   ]
  },
  {
   "cell_type": "code",
   "execution_count": 45,
   "metadata": {},
   "outputs": [],
   "source": [
    "X = data_selection(sfs1.k_feature_names_)\n",
    "y = target"
   ]
  },
  {
   "cell_type": "code",
   "execution_count": 46,
   "metadata": {},
   "outputs": [
    {
     "data": {
      "text/plain": [
       "((44657, 7), (44657,))"
      ]
     },
     "execution_count": 46,
     "metadata": {},
     "output_type": "execute_result"
    }
   ],
   "source": [
    "X.shape,y.shape"
   ]
  },
  {
   "cell_type": "markdown",
   "metadata": {},
   "source": [
    "#### Split data"
   ]
  },
  {
   "cell_type": "code",
   "execution_count": 47,
   "metadata": {},
   "outputs": [],
   "source": [
    "from sklearn.model_selection import train_test_split\n",
    "X_train,X_test, y_train,y_test = train_test_split(X,y,test_size = 0.2, random_state = 43)"
   ]
  },
  {
   "cell_type": "code",
   "execution_count": 48,
   "metadata": {},
   "outputs": [
    {
     "data": {
      "text/plain": [
       "((35725, 7), (35725,))"
      ]
     },
     "execution_count": 48,
     "metadata": {},
     "output_type": "execute_result"
    }
   ],
   "source": [
    "X_train.shape,y_train.shape"
   ]
  },
  {
   "cell_type": "code",
   "execution_count": 49,
   "metadata": {},
   "outputs": [
    {
     "data": {
      "text/plain": [
       "((8932, 7), (8932,))"
      ]
     },
     "execution_count": 49,
     "metadata": {},
     "output_type": "execute_result"
    }
   ],
   "source": [
    "X_test.shape,y_test.shape"
   ]
  },
  {
   "cell_type": "markdown",
   "metadata": {},
   "source": [
    "#### Poly Regression"
   ]
  },
  {
   "cell_type": "code",
   "execution_count": 50,
   "metadata": {},
   "outputs": [
    {
     "name": "stderr",
     "output_type": "stream",
     "text": [
      "c:\\Users\\Admin\\AppData\\Local\\Programs\\Python\\Python310\\lib\\site-packages\\sklearn\\utils\\validation.py:1688: FutureWarning: Feature names only support names that are all strings. Got feature names with dtypes: ['str_']. An error will be raised in 1.2.\n",
      "  warnings.warn(\n",
      "c:\\Users\\Admin\\AppData\\Local\\Programs\\Python\\Python310\\lib\\site-packages\\sklearn\\utils\\validation.py:1688: FutureWarning: Feature names only support names that are all strings. Got feature names with dtypes: ['str_']. An error will be raised in 1.2.\n",
      "  warnings.warn(\n"
     ]
    },
    {
     "data": {
      "text/plain": [
       "LinearRegression()"
      ]
     },
     "execution_count": 50,
     "metadata": {},
     "output_type": "execute_result"
    }
   ],
   "source": [
    "from sklearn.preprocessing import PolynomialFeatures\n",
    "\n",
    "d = PolynomialFeatures(degree = 5)\n",
    "X_poly = d.fit_transform(X_train)\n",
    "\n",
    "model_poly = LR()\n",
    "model_poly.fit(X_poly, y_train)"
   ]
  },
  {
   "cell_type": "code",
   "execution_count": 51,
   "metadata": {},
   "outputs": [
    {
     "name": "stderr",
     "output_type": "stream",
     "text": [
      "c:\\Users\\Admin\\AppData\\Local\\Programs\\Python\\Python310\\lib\\site-packages\\sklearn\\utils\\validation.py:1688: FutureWarning: Feature names only support names that are all strings. Got feature names with dtypes: ['str_']. An error will be raised in 1.2.\n",
      "  warnings.warn(\n",
      "c:\\Users\\Admin\\AppData\\Local\\Programs\\Python\\Python310\\lib\\site-packages\\sklearn\\utils\\validation.py:1688: FutureWarning: Feature names only support names that are all strings. Got feature names with dtypes: ['str_']. An error will be raised in 1.2.\n",
      "  warnings.warn(\n"
     ]
    }
   ],
   "source": [
    "yHat_poly = model_poly.predict(d.fit_transform(X_test))"
   ]
  },
  {
   "cell_type": "code",
   "execution_count": 52,
   "metadata": {},
   "outputs": [
    {
     "name": "stdout",
     "output_type": "stream",
     "text": [
      "MAE:  3.960072784169457\n",
      "MSE:  142.53316228051082\n",
      "R2:  0.22025764230477796\n"
     ]
    }
   ],
   "source": [
    "from sklearn.metrics import mean_absolute_error as mae\n",
    "from sklearn.metrics import mean_squared_error as mse\n",
    "from sklearn.metrics import r2_score as r2\n",
    "print('MAE: ', mae(yHat_poly,y_test))\n",
    "print('MSE: ', mse(yHat_poly,y_test))\n",
    "print('R2: ', r2(yHat_poly,y_test))"
   ]
  },
  {
   "cell_type": "code",
   "execution_count": 53,
   "metadata": {},
   "outputs": [
    {
     "name": "stderr",
     "output_type": "stream",
     "text": [
      "c:\\Users\\Admin\\AppData\\Local\\Programs\\Python\\Python310\\lib\\site-packages\\sklearn\\utils\\validation.py:1688: FutureWarning: Feature names only support names that are all strings. Got feature names with dtypes: ['str_']. An error will be raised in 1.2.\n",
      "  warnings.warn(\n",
      "c:\\Users\\Admin\\AppData\\Local\\Programs\\Python\\Python310\\lib\\site-packages\\sklearn\\utils\\validation.py:1688: FutureWarning: Feature names only support names that are all strings. Got feature names with dtypes: ['str_']. An error will be raised in 1.2.\n",
      "  warnings.warn(\n",
      "c:\\Users\\Admin\\AppData\\Local\\Programs\\Python\\Python310\\lib\\site-packages\\sklearn\\utils\\validation.py:1688: FutureWarning: Feature names only support names that are all strings. Got feature names with dtypes: ['str_']. An error will be raised in 1.2.\n",
      "  warnings.warn(\n",
      "c:\\Users\\Admin\\AppData\\Local\\Programs\\Python\\Python310\\lib\\site-packages\\sklearn\\utils\\validation.py:1688: FutureWarning: Feature names only support names that are all strings. Got feature names with dtypes: ['str_']. An error will be raised in 1.2.\n",
      "  warnings.warn(\n"
     ]
    }
   ],
   "source": [
    "#from sklearn.preprocessing import PolynomialFeatures\n",
    "\n",
    "#d = PolynomialFeatures(degree = 5)\n",
    "#X_poly = d.fit_transform(X)\n",
    "\n",
    "#model_poly = LR()\n",
    "#model_poly.fit(X_poly, y)\n",
    "\n",
    "#yHat_poly = model_poly.predict(d.fit_transform(X))"
   ]
  },
  {
   "cell_type": "code",
   "execution_count": 54,
   "metadata": {},
   "outputs": [
    {
     "name": "stdout",
     "output_type": "stream",
     "text": [
      "MAE:  3.7182078864425656\n",
      "MSE:  21.76375622668586\n",
      "R2:  0.67130049964764\n"
     ]
    }
   ],
   "source": [
    "#from sklearn.metrics import mean_absolute_error as mae\n",
    "#from sklearn.metrics import mean_squared_error as mse\n",
    "#from sklearn.metrics import r2_score as r2\n",
    "#print('MAE: ', mae(yHat_poly,y))\n",
    "#print('MSE: ', mse(yHat_poly,y))\n",
    "#print('R2: ', r2(yHat_poly,y))"
   ]
  },
  {
   "cell_type": "markdown",
   "metadata": {},
   "source": [
    "### Keras"
   ]
  },
  {
   "cell_type": "code",
   "execution_count": 24,
   "metadata": {},
   "outputs": [
    {
     "data": {
      "text/plain": [
       "((35725, 7), (35725,))"
      ]
     },
     "execution_count": 24,
     "metadata": {},
     "output_type": "execute_result"
    }
   ],
   "source": [
    "X_train.shape,y_train.shape"
   ]
  },
  {
   "cell_type": "code",
   "execution_count": 25,
   "metadata": {},
   "outputs": [],
   "source": [
    "import keras\n",
    "from keras.models import Sequential\n",
    "from keras.layers import Dense"
   ]
  },
  {
   "cell_type": "code",
   "execution_count": 26,
   "metadata": {},
   "outputs": [
    {
     "name": "stdout",
     "output_type": "stream",
     "text": [
      "Model: \"sequential\"\n",
      "_________________________________________________________________\n",
      " Layer (type)                Output Shape              Param #   \n",
      "=================================================================\n",
      " dense (Dense)               (None, 500)               4000      \n",
      "                                                                 \n",
      " dense_1 (Dense)             (None, 100)               50100     \n",
      "                                                                 \n",
      " dense_2 (Dense)             (None, 50)                5050      \n",
      "                                                                 \n",
      " dense_3 (Dense)             (None, 1)                 51        \n",
      "                                                                 \n",
      "=================================================================\n",
      "Total params: 59,201\n",
      "Trainable params: 59,201\n",
      "Non-trainable params: 0\n",
      "_________________________________________________________________\n",
      "WARNING:tensorflow:Compiled the loaded model, but the compiled metrics have yet to be built. `model.compile_metrics` will be empty until you train or evaluate the model.\n",
      "INFO:tensorflow:Assets written to: model.\\assets\n"
     ]
    }
   ],
   "source": [
    "model = Sequential()\n",
    "model.add(Dense(500, input_dim=X_train.shape[1], activation= \"tanh\"))\n",
    "model.add(Dense(100, activation= \"tanh\"))\n",
    "model.add(Dense(50, activation= \"tanh\"))\n",
    "model.add(Dense(1))\n",
    "model.summary()\n",
    "#model.save('model.h5')"
   ]
  },
  {
   "cell_type": "code",
   "execution_count": 27,
   "metadata": {},
   "outputs": [
    {
     "name": "stdout",
     "output_type": "stream",
     "text": [
      "Epoch 1/20\n",
      "1117/1117 [==============================] - 10s 7ms/step - loss: 8.7266 - mean_absolute_error: 8.7266\n",
      "Epoch 2/20\n",
      "1117/1117 [==============================] - 7s 6ms/step - loss: 6.3370 - mean_absolute_error: 6.3370\n",
      "Epoch 3/20\n",
      "1117/1117 [==============================] - 5s 5ms/step - loss: 5.2125 - mean_absolute_error: 5.2125\n",
      "Epoch 4/20\n",
      "1117/1117 [==============================] - 4s 4ms/step - loss: 4.6862 - mean_absolute_error: 4.6862\n",
      "Epoch 5/20\n",
      "1117/1117 [==============================] - 3s 3ms/step - loss: 4.1221 - mean_absolute_error: 4.1221\n",
      "Epoch 6/20\n",
      "1117/1117 [==============================] - 4s 3ms/step - loss: 3.9127 - mean_absolute_error: 3.9127\n",
      "Epoch 7/20\n",
      "1117/1117 [==============================] - 4s 3ms/step - loss: 3.7610 - mean_absolute_error: 3.7610\n",
      "Epoch 8/20\n",
      "1117/1117 [==============================] - 5s 4ms/step - loss: 3.6944 - mean_absolute_error: 3.6944\n",
      "Epoch 9/20\n",
      "1117/1117 [==============================] - 4s 4ms/step - loss: 3.6338 - mean_absolute_error: 3.6338\n",
      "Epoch 10/20\n",
      "1117/1117 [==============================] - 5s 4ms/step - loss: 3.6028 - mean_absolute_error: 3.6028\n",
      "Epoch 11/20\n",
      "1117/1117 [==============================] - 5s 4ms/step - loss: 3.5613 - mean_absolute_error: 3.5613\n",
      "Epoch 12/20\n",
      "1117/1117 [==============================] - 4s 4ms/step - loss: 3.5534 - mean_absolute_error: 3.5534\n",
      "Epoch 13/20\n",
      "1117/1117 [==============================] - 4s 4ms/step - loss: 3.5297 - mean_absolute_error: 3.5297\n",
      "Epoch 14/20\n",
      "1117/1117 [==============================] - 5s 4ms/step - loss: 3.5070 - mean_absolute_error: 3.5070\n",
      "Epoch 15/20\n",
      "1117/1117 [==============================] - 3s 3ms/step - loss: 3.4886 - mean_absolute_error: 3.4886\n",
      "Epoch 16/20\n",
      "1117/1117 [==============================] - 4s 3ms/step - loss: 3.4876 - mean_absolute_error: 3.4876\n",
      "Epoch 17/20\n",
      "1117/1117 [==============================] - 4s 3ms/step - loss: 3.4653 - mean_absolute_error: 3.4653\n",
      "Epoch 18/20\n",
      "1117/1117 [==============================] - 4s 4ms/step - loss: 3.4562 - mean_absolute_error: 3.4562\n",
      "Epoch 19/20\n",
      "1117/1117 [==============================] - 3s 3ms/step - loss: 3.4646 - mean_absolute_error: 3.4646\n",
      "Epoch 20/20\n",
      "1117/1117 [==============================] - 3s 3ms/step - loss: 3.4326 - mean_absolute_error: 3.4326\n"
     ]
    },
    {
     "data": {
      "text/plain": [
       "<keras.callbacks.History at 0x1fbc4b92350>"
      ]
     },
     "execution_count": 27,
     "metadata": {},
     "output_type": "execute_result"
    }
   ],
   "source": [
    "model.compile(loss= \"mean_absolute_error\" , optimizer=\"adam\", metrics=[\"mean_absolute_error\"])\n",
    "model.fit(X_train, y_train, epochs=20)"
   ]
  },
  {
   "cell_type": "code",
   "execution_count": 28,
   "metadata": {},
   "outputs": [],
   "source": [
    "yHat_keras = model.predict(X_test)"
   ]
  },
  {
   "cell_type": "code",
   "execution_count": 31,
   "metadata": {},
   "outputs": [
    {
     "name": "stdout",
     "output_type": "stream",
     "text": [
      "MAE:  3.573914236195996\n",
      "MSE:  20.374117887354437\n",
      "R2:  0.7109512630242896\n"
     ]
    }
   ],
   "source": [
    "from sklearn.metrics import mean_squared_error as mse\n",
    "from sklearn.metrics import mean_absolute_error as mae\n",
    "from sklearn.metrics import r2_score as r2\n",
    "print('MAE: ', mae(yHat_keras,y_test))\n",
    "print('MSE: ',mse(yHat_keras,y_test))\n",
    "print('R2: ', r2(yHat_keras,y_test))"
   ]
  },
  {
   "cell_type": "code",
   "execution_count": 55,
   "metadata": {},
   "outputs": [
    {
     "name": "stdout",
     "output_type": "stream",
     "text": [
      "Epoch 1/20\n",
      "1396/1396 [==============================] - 6s 4ms/step - loss: 3.4459 - mean_absolute_error: 3.4459\n",
      "Epoch 2/20\n",
      "1396/1396 [==============================] - 5s 4ms/step - loss: 3.4424 - mean_absolute_error: 3.4424\n",
      "Epoch 3/20\n",
      "1396/1396 [==============================] - 4s 3ms/step - loss: 3.4253 - mean_absolute_error: 3.4253\n",
      "Epoch 4/20\n",
      "1396/1396 [==============================] - 6s 4ms/step - loss: 3.4018 - mean_absolute_error: 3.4018\n",
      "Epoch 5/20\n",
      "1396/1396 [==============================] - 4s 3ms/step - loss: 3.4130 - mean_absolute_error: 3.4130\n",
      "Epoch 6/20\n",
      "1396/1396 [==============================] - 4s 3ms/step - loss: 3.4022 - mean_absolute_error: 3.4022\n",
      "Epoch 7/20\n",
      "1396/1396 [==============================] - 5s 4ms/step - loss: 3.4021 - mean_absolute_error: 3.4021\n",
      "Epoch 8/20\n",
      "1396/1396 [==============================] - 4s 3ms/step - loss: 3.3841 - mean_absolute_error: 3.3841\n",
      "Epoch 9/20\n",
      "1396/1396 [==============================] - 4s 3ms/step - loss: 3.3789 - mean_absolute_error: 3.3789\n",
      "Epoch 10/20\n",
      "1396/1396 [==============================] - 4s 3ms/step - loss: 3.3789 - mean_absolute_error: 3.3789\n",
      "Epoch 11/20\n",
      "1396/1396 [==============================] - 4s 3ms/step - loss: 3.3788 - mean_absolute_error: 3.3788\n",
      "Epoch 12/20\n",
      "1396/1396 [==============================] - 4s 3ms/step - loss: 3.3800 - mean_absolute_error: 3.3800\n",
      "Epoch 13/20\n",
      "1396/1396 [==============================] - 4s 3ms/step - loss: 3.3513 - mean_absolute_error: 3.3513\n",
      "Epoch 14/20\n",
      "1396/1396 [==============================] - 4s 3ms/step - loss: 3.3408 - mean_absolute_error: 3.3408\n",
      "Epoch 15/20\n",
      "1396/1396 [==============================] - 4s 3ms/step - loss: 3.3538 - mean_absolute_error: 3.3538\n",
      "Epoch 16/20\n",
      "1396/1396 [==============================] - 4s 3ms/step - loss: 3.3292 - mean_absolute_error: 3.3292\n",
      "Epoch 17/20\n",
      "1396/1396 [==============================] - 4s 3ms/step - loss: 3.3515 - mean_absolute_error: 3.3515\n",
      "Epoch 18/20\n",
      "1396/1396 [==============================] - 4s 3ms/step - loss: 3.3368 - mean_absolute_error: 3.3368\n",
      "Epoch 19/20\n",
      "1396/1396 [==============================] - 5s 3ms/step - loss: 3.3245 - mean_absolute_error: 3.3245\n",
      "Epoch 20/20\n",
      "1396/1396 [==============================] - 5s 3ms/step - loss: 3.3057 - mean_absolute_error: 3.3057\n"
     ]
    }
   ],
   "source": [
    "#model.compile(loss= \"mean_absolute_error\" , optimizer=\"adam\", metrics=[\"mean_absolute_error\"])\n",
    "#model.fit(X, y, epochs=20)\n",
    "#yHat_keras = model.predict(X)"
   ]
  },
  {
   "cell_type": "code",
   "execution_count": 57,
   "metadata": {},
   "outputs": [
    {
     "name": "stdout",
     "output_type": "stream",
     "text": [
      "MAE:  3.6150417681101477\n",
      "MSE:  21.731943012075728\n",
      "R2:  0.6516780054285047\n"
     ]
    }
   ],
   "source": [
    "#from sklearn.metrics import mean_squared_error as mse\n",
    "#from sklearn.metrics import mean_absolute_error as mae\n",
    "#from sklearn.metrics import r2_score as r2\n",
    "#print('MAE: ', mae(yHat_keras,y))\n",
    "#print('MSE: ',mse(yHat_keras,y))\n",
    "#print('R2: ', r2(yHat_keras,y))"
   ]
  },
  {
   "cell_type": "code",
   "execution_count": null,
   "metadata": {},
   "outputs": [],
   "source": []
  }
 ],
 "metadata": {
  "kernelspec": {
   "display_name": "Python 3.10.2 64-bit",
   "language": "python",
   "name": "python3"
  },
  "language_info": {
   "codemirror_mode": {
    "name": "ipython",
    "version": 3
   },
   "file_extension": ".py",
   "mimetype": "text/x-python",
   "name": "python",
   "nbconvert_exporter": "python",
   "pygments_lexer": "ipython3",
   "version": "3.10.5"
  },
  "orig_nbformat": 4,
  "vscode": {
   "interpreter": {
    "hash": "a42ccb73e7d9bfdf27e036f1d2b8b681e55fc0743cc5586bc2474d4a60f4b886"
   }
  }
 },
 "nbformat": 4,
 "nbformat_minor": 2
}
